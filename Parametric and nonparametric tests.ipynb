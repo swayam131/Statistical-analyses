{
 "cells": [
  {
   "cell_type": "code",
   "execution_count": 1,
   "id": "ebda5114",
   "metadata": {},
   "outputs": [
    {
     "name": "stdout",
     "output_type": "stream",
     "text": [
      "Independent t-test: t-statistic = -0.617, p-value = 0.538\n",
      "Paired t-test: t-statistic = 0.264, p-value = 0.792\n",
      "ANOVA: F-statistic = 6.740, p-value = 0.001\n",
      "Mann-Whitney U test: U-statistic = 4905.000, p-value = 0.817\n",
      "Wilcoxon Signed-Rank Test: W-statistic = 2506.000, p-value = 0.948\n",
      "Kruskal-Wallis H test: H-statistic = 13.074, p-value = 0.001\n"
     ]
    }
   ],
   "source": [
    "import numpy as np\n",
    "from scipy import stats\n",
    "\n",
    "\n",
    "group1 = np.random.normal(50, 10, 100)\n",
    "group2 = np.random.normal(52, 12, 100)\n",
    "\n",
    "# Parametric Tests\n",
    "#t-test (independent)\n",
    "t_stat, p_value_ttest = stats.ttest_ind(group1, group2)\n",
    "print(\"Independent t-test: t-statistic = {:.3f}, p-value = {:.3f}\".format(t_stat, p_value_ttest))\n",
    "\n",
    "#t-test (paired)\n",
    "group1_paired = np.random.normal(50, 10, 100)\n",
    "group2_paired = np.random.normal(52, 12, 100)\n",
    "t_stat_paired, p_value_paired_ttest = stats.ttest_rel(group1_paired, group2_paired)\n",
    "print(\"Paired t-test: t-statistic = {:.3f}, p-value = {:.3f}\".format(t_stat_paired, p_value_paired_ttest))\n",
    "\n",
    "#ANOVA (for three groups)\n",
    "group3 = np.random.normal(48, 8, 100)\n",
    "f_stat, p_value_anova = stats.f_oneway(group1, group2, group3)\n",
    "print(\"ANOVA: F-statistic = {:.3f}, p-value = {:.3f}\".format(f_stat, p_value_anova))\n",
    "\n",
    "\n",
    "# Non-parametric Tests\n",
    "# Mann-Whitney U Test (independent)\n",
    "u_stat, p_value_mw = stats.mannwhitneyu(group1, group2)\n",
    "print(\"Mann-Whitney U test: U-statistic = {:.3f}, p-value = {:.3f}\".format(u_stat, p_value_mw))\n",
    "\n",
    "#Wilcoxon Signed-Rank Test (paired)\n",
    "w_stat, p_value_wilcoxon = stats.wilcoxon(group1_paired, group2_paired)\n",
    "print(\"Wilcoxon Signed-Rank Test: W-statistic = {:.3f}, p-value = {:.3f}\".format(w_stat, p_value_wilcoxon))\n",
    "\n",
    "#Kruskal-Wallis H Test (for three groups)\n",
    "h_stat, p_value_kruskal = stats.kruskal(group1, group2, group3)\n",
    "print(\"Kruskal-Wallis H test: H-statistic = {:.3f}, p-value = {:.3f}\".format(h_stat, p_value_kruskal))\n"
   ]
  },
  {
   "cell_type": "code",
   "execution_count": null,
   "id": "47fb21ae",
   "metadata": {},
   "outputs": [],
   "source": []
  }
 ],
 "metadata": {
  "kernelspec": {
   "display_name": "Python 3 (ipykernel)",
   "language": "python",
   "name": "python3"
  },
  "language_info": {
   "codemirror_mode": {
    "name": "ipython",
    "version": 3
   },
   "file_extension": ".py",
   "mimetype": "text/x-python",
   "name": "python",
   "nbconvert_exporter": "python",
   "pygments_lexer": "ipython3",
   "version": "3.10.6"
  }
 },
 "nbformat": 4,
 "nbformat_minor": 5
}
